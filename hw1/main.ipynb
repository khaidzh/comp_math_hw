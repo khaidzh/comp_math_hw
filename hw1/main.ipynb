{
 "cells": [
  {
   "cell_type": "markdown",
   "metadata": {},
   "source": [
    "# Домашнее задание Ⅰ\n",
    "\n",
    "## Задача I.8.17\n",
    "$S = \\{\\pm b_0 . b_1 b_2 \\cdot 2^{\\pm a}\\}, a, b_1, b_2\\in\\{0,1\\}, b_0=1$ всегда, кроме случая $a_0=b_1=b_2=0$, в котором $b_0\\in\\{0,1\\}$\n",
    "\n",
    "a) Всего чисел $1_0+2_{\\pm}\\cdot2_{b_1}\\cdot2_{b_2}\\cdot3_{\\pm a}=25$, изобразим их на вещественной прямой\n",
    "\n",
    "<div align=\"center\"> <img src=\"images/s_on_real_line_white.png\" width=1120/> </div>\n",
    "\n",
    "б) $\\text{UFL} = 0.5, \\text{OFL} = 3.5, \\varepsilon_\\text{маш}=(1.25-1)/2=0.125$"
   ]
  },
  {
   "cell_type": "markdown",
   "metadata": {},
   "source": [
    "## Задача I.8.31\n",
    "Дана неравномерная сетка $h_i=x_{i+1}-x_i,h_{i-1}=x_i-x_{i-1}$. Аппроксимируем в виде $f''(x)=af(x)+bf(x+h_i)+cf(x-h_j)$, где $j=i-1,k=i+1$ и оценим главный член погрешности аппроксимации\n",
    "\n",
    "<div align=\"center\"> <img src=\"images/f_abc_taylor.png\" width=1120/> </div>\n",
    "\n",
    "$$a=\\frac{-2}{h_i h_j},b=\\frac{2}{h_i(h_i+h_j)},c=\\frac{2}{(h_i + h_j)h_j}$$\n",
    "$$f''(x)=2\\left[\\frac{f(x+h_i)h_j+f(x-h_j)h_i}{h_i h_j(h_i+h_j)}-\\frac{f(x)}{h_i h_j}\\right]$$\n",
    "$$\\text{err}=\\frac{M_3}{3}(h_i+h_j),M_3=\\max\\limits_{x}|f'''(x)|$$\n",
    "\n",
    "Оценим неустранимую ошибку, если $|f(x_l)-f_l|\\le\\varepsilon,\\ l=i,j,k$\n",
    "$$\\Delta_\\varepsilon=|f''(x_i)-f''_i|=|a(f(x_i)-f_i)+b(f(x_k)-f_k)+c(f(x_j)-f_j))|\\le(|a|+|b|+|c|)\\varepsilon=\\frac{4\\varepsilon}{h_i h_j}$$\n",
    "\n",
    "<div align=\"center\"> <img src=\"images/delta_e.png\" width=1120/> </div>\n",
    "\n",
    "Общая ошибка не превосходит\n",
    "$$\\Delta=\\Delta_\\varepsilon+\\text{err}=\\frac{M_3}{3}(h_i+h_j)+\\frac{4\\varepsilon}{h_i h_j}$$\n",
    "\n",
    "Если $h_i=h,h_j=2h$, найдем оптимальный шаг\n",
    "\n",
    "<div align=\"center\"> <img src=\"images/optimum_h.png\" width=1120/> </div>\n",
    "\n",
    "$$h^*=\\sqrt[3]{\\frac{4\\varepsilon}{M_3}},\\Delta=3\\sqrt[3]{\\frac{\\varepsilon M_3^2}{2}}$$\n"
   ]
  },
  {
   "cell_type": "markdown",
   "metadata": {},
   "source": [
    "## Задача I.8.40\n",
    "С помощью метода неопределенных коэффициентов найдем\n",
    "$$f'''(x)=af(x) + bf(x - 2h) + cf(x - 4h) + mf(x - 5h) + nf(x - 6h)$$\n",
    "что\n",
    "$$f'''(x)=\\frac{17f(x) - 75f(x-2h) + 195f(x-4h) - 192f(x-5h) + 55f(x-6h)}{40h^3}$$\n",
    "со вторым порядком аппроксимации\n",
    "$$\\text{err}=\\frac{26 M_5}{5}h^2$$\n",
    "Положив $x=7,h=1$, получим $$f'''(7)=0.37375$$"
   ]
  },
  {
   "cell_type": "markdown",
   "metadata": {},
   "source": [
    "## Задача I.9.1\n",
    "Напишем предложенную программу с одинарной точностью вычислений и библиотечную с двойной точностью"
   ]
  },
  {
   "cell_type": "code",
   "execution_count": 1,
   "metadata": {},
   "outputs": [],
   "source": [
    "import numpy as np\n",
    "\n",
    "def exp(x):\n",
    "    x = x.astype(np.float32)\n",
    "    sum = term = i = E = np.float32(1)\n",
    "    while (sum + term != sum):\n",
    "        term = term * x / i\n",
    "        sum = sum + term\n",
    "        i += E\n",
    "    return sum\n",
    "\n",
    "def npexp(x):\n",
    "    return np.exp(x.astype(np.float64))"
   ]
  },
  {
   "cell_type": "markdown",
   "metadata": {},
   "source": [
    "Сравним экспоненты, вычисленные написанными функциями по предложенным аргументам"
   ]
  },
  {
   "cell_type": "code",
   "execution_count": 2,
   "metadata": {},
   "outputs": [
    {
     "name": "stdout",
     "output_type": "stream",
     "text": [
      "  1\t2.718282\t2.718281828459045\n",
      "  5\t148.4132\t148.4131591025766\n",
      " 10\t22026.469\t22026.465794806718\n",
      " 15\t3269017.5\t3269017.3724721107\n",
      " 20\t485165220.0\t485165195.4097903\n",
      " 25\t72004910000.0\t72004899337.38588\n",
      " -1\t0.3678794\t0.36787944117144233\n",
      " -5\t0.0067384234\t0.006737946999085467\n",
      "-10\t-6.256183e-05\t4.5399929762484854e-05\n",
      "-15\t0.02123355\t3.059023205018258e-07\n",
      "-20\t-2.7566755\t2.061153622438558e-09\n",
      "-25\t174.7128\t1.3887943864964021e-11\n"
     ]
    }
   ],
   "source": [
    "X = np.array([1, 5, 10, 15, 20, 25, -1, -5, -10, -15, -20, -25])\n",
    "\n",
    "for x in X:\n",
    "    print(f'{x:3.0f}', exp(x), npexp(x), sep='\\t')"
   ]
  },
  {
   "cell_type": "markdown",
   "metadata": {},
   "source": [
    "Видим, что для всех положительных аргументов алгоритм работает, для отрицательных же с уменьшением значения аргумента отклонение увеличивается, и получаются бессмысленные отрицательные значения для экспоненты.\n",
    "\n",
    "Это связано с тем, что приведенный алгоритм использует ряд Маклорена экспоненты, который при положительных значениях аргумента является знакоположительным, отрицательных $-$ знакочередующимся. Члены ряда сначала растут, затем убывают к 0, поэтому вычитая и прибавляя все меньшие числа, увеличиваем относительную ошибку накоплением ошибок округления.\n",
    "\n",
    "Численно оценим ошибки\n",
    "- Неустранимая ошибка $\\Delta_{\\exp}=|e^{x^*}-e^x|\\le \\max|(e^x)'|\\Delta x\\approx\\varepsilon e^x\\approx\\varepsilon\\cdot\\text{sum}$\n",
    "\n",
    "- Ошибка метода как первый отброшенный член ряда $\\Delta_m\\le|\\frac{x^{i_0+1}}{(i_0+1)!}|=|\\text{term}_{i_0+1}|$ \n",
    "\n",
    "- Ошибка округления как ошибка округления наибольшего члена ряда, который находится из рекуррентного соотношения\n",
    "$$|\\text{term}_{j+1}|=\\left|\\frac{x}{j+1}\\text{term}_j\\right|\\Rightarrow\\frac{|x|}{j+1}\\approx1\\Rightarrow j_0\\approx|x|$$\n",
    "$$\\Delta_r\\le\\varepsilon\\cdot\\max_i|\\text{term}_i|\\approx\\varepsilon\\cdot|\\text{term}_{j_0}|$$\n",
    "\n",
    "Таким образом, $$\\Delta\\le\\Delta_{\\exp}+\\Delta_m+\\Delta_r\\le\\varepsilon(\\text{sum+|term}_{j_0}|)+|\\text{term}|$$"
   ]
  },
  {
   "cell_type": "code",
   "execution_count": 3,
   "metadata": {},
   "outputs": [
    {
     "name": "stdout",
     "output_type": "stream",
     "text": [
      "  1\t2.718282\t2.718281828459045\t1.558701785420169e-07\t4.683058705268195e-07\t0.33\n",
      "  5\t148.4132\t148.4131591025766\t3.3646446837565236e-05\t2.2917800379218534e-05\t1.47\n",
      " 10\t22026.469\t22026.465794806718\t0.0029551932821050286\t0.0033343075774610043\t0.89\n",
      " 15\t3269017.5\t3269017.3724721107\t0.12752788932994008\t0.4791969060897827  \t0.27\n",
      " 20\t485165220.0\t485165195.4097903\t20.59020972251892\t72.22885131835938   \t0.29\n",
      " 25\t72004910000.0\t72004899337.38588\t11766.614120483398\t11975.01953125      \t0.98\n",
      " -1\t0.3678794\t0.36787944117144233\t5.045488959964928e-08\t1.6515160439212195e-07\t0.31\n",
      " -5\t0.0067384234\t0.006737946999085467\t4.763707394193212e-07\t3.1053341444930993e-06\t0.15\n",
      "-10\t-6.256183e-05\t4.5399929762484854e-05\t0.00010796175654292328\t0.0003285088750999421\t0.33\n",
      "-15\t0.02123355\t3.059023205018258e-07\t0.021233243439238908\t0.03991897404193878 \t0.53\n",
      "-20\t-2.7566755\t2.061153622438558e-09\t2.756675483857418\t5.13789701461792    \t0.54\n",
      "-25\t174.7128\t1.3887943864964021e-11\t174.71279907225173\t682.5974731445312   \t0.26\n"
     ]
    }
   ],
   "source": [
    "def exp_m(x):\n",
    "    j, j0, maxterm = 0, np.abs(x), 1\n",
    "    x = x.astype(np.float32)\n",
    "    sum = term = i = E = np.float32(1)\n",
    "    while (sum + term != sum):\n",
    "        term = term * x / i\n",
    "        sum = sum + term\n",
    "        i += E\n",
    "        j += 1\n",
    "        if j == j0:\n",
    "            maxterm = np.abs(term)\n",
    "    delta = np.finfo(np.float32).eps*(sum+maxterm)+np.abs(term)\n",
    "    return sum, delta\n",
    "\n",
    "for x in X:\n",
    "    y, delta = exp_m(x)\n",
    "    y0 = npexp(x)\n",
    "    print(f'{x:3}', y, y0, np.abs(y-y0), f'{delta:<20}', f'{np.abs(y-y0)/delta:1.2f}', sep='\\t')"
   ]
  },
  {
   "cell_type": "markdown",
   "metadata": {},
   "source": [
    "Выше выведены: точка, значение, точное значение, реальная ошибка, оценка, доля реальной ошибки от оценки.\n",
    "\n",
    "Видим, что наша оценка хорошо выполняется, поэтому наше утверждение, что основную ошибку для отрицательных значений вносит округление верно, поскольку для $x\\ge0:|\\text{term}|\\le\\varepsilon$ и $|\\text{term}_{j_0}|\\le\\text{sum}\\Rightarrow\\frac{\\Delta}{\\text{sum}}\\le3\\varepsilon$, а для $x<0$ второе неравенство неверно. Для того, чтобы исправить это, воспользуемся тем, что $e^x=1/e^{-x}$"
   ]
  },
  {
   "cell_type": "code",
   "execution_count": 4,
   "metadata": {},
   "outputs": [],
   "source": [
    "def exp_fixed(x):\n",
    "    if x < 0:\n",
    "        return np.float32(1) / exp(-x)\n",
    "    return exp(x)"
   ]
  },
  {
   "cell_type": "markdown",
   "metadata": {},
   "source": [
    "Проверим, что теперь все работает с высокой точностью, то есть относительная ошибка не превосходит $\\sim 3\\varepsilon=$ `3.576e-07`"
   ]
  },
  {
   "cell_type": "code",
   "execution_count": 5,
   "metadata": {},
   "outputs": [
    {
     "name": "stdout",
     "output_type": "stream",
     "text": [
      "  1\t2.718282\t2.718281828459045\t5.734143426749938e-08\n",
      "  5\t148.4132\t148.4131591025766\t2.26707975503615e-07\n",
      " 10\t22026.469\t22026.465794806718\t1.3416556754464182e-07\n",
      " 15\t3269017.5\t3269017.3724721107\t3.9011077257455895e-08\n",
      " 20\t485165220.0\t485165195.4097903\t4.243958540151027e-08\n",
      " 25\t72004910000.0\t72004899337.38588\t1.6341407649278494e-07\n",
      " -1\t0.36787942\t0.36787944117144233\t5.6139498161300594e-08\n",
      " -5\t0.0067379456\t0.006737946999085467\t2.074432106091706e-07\n",
      "-10\t4.5399924e-05\t4.5399929762484854e-05\t1.3370125262479604e-07\n",
      "-15\t3.0590232e-07\t3.059023205018258e-07\t6.259732288071973e-09\n",
      "-20\t2.0611535e-09\t2.061153622438558e-09\t7.389813716507376e-08\n",
      "-25\t1.3887942e-11\t1.3887943864964021e-11\t1.3344545113369577e-07\n"
     ]
    }
   ],
   "source": [
    "for x in X:\n",
    "    print(f'{x:3}', exp_fixed(x), npexp(x), np.abs(1-exp_fixed(x)/npexp(x)), sep = '\\t')"
   ]
  }
 ],
 "metadata": {
  "kernelspec": {
   "display_name": "Python 3",
   "language": "python",
   "name": "python3"
  },
  "language_info": {
   "codemirror_mode": {
    "name": "ipython",
    "version": 3
   },
   "file_extension": ".py",
   "mimetype": "text/x-python",
   "name": "python",
   "nbconvert_exporter": "python",
   "pygments_lexer": "ipython3",
   "version": "3.11.4"
  }
 },
 "nbformat": 4,
 "nbformat_minor": 2
}
