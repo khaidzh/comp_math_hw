{
 "cells": [
  {
   "cell_type": "markdown",
   "metadata": {},
   "source": [
    "# Домашнее задание Ⅱ"
   ]
  },
  {
   "cell_type": "markdown",
   "metadata": {},
   "source": [
    "## Задача II.7.10\n",
    "\n",
    "> Пусть $d_k>0, k=1,2,\\ldots,n$. Доказать, что $\\|x\\|=\\max{d_k|x_k|}$ есть норма $x$. Найти норму матрицы, подчиненную этой векторной норме.\n",
    "\n",
    "Покажем, что для нее выполняются аксиомы нормы\n",
    "1. $\\|x\\|=\\max{d_k|x_k|}\\ge 0$, так как $d_k>0, |x_k|\\ge 0$\n",
    "2. $\\|x\\|=0\\Leftrightarrow d_k|x_k|=0\\ \\forall k\\Leftrightarrow x_k=0\\ \\forall k\\Leftrightarrow x=0_V$\n",
    "3. $\\|\\alpha x\\|=\\max{d_k|\\alpha x_k|}=|\\alpha|\\max{d_k|x_k|}=|\\alpha|\\cdot\\|x\\|$\n",
    "4. $\\|x+y\\|=\\max\\limits_k{d_k|x_k+y_k|}\\le\\max\\limits_k{(d_k|x_k|+d_k|y_k|)}\\le\\max\\limits_k{(\\max\\limits_i{d_i|x_i|}+\\max\\limits_j{d_j|y_j|})}=\\max\\limits_i{d_i|x_i|}+\\max\\limits_j{d_j|y_j|}=\\|x\\|+\\|y\\|$\n",
    "\n",
    "Подчиненная норма\n",
    "$$\\|A\\|=\\sup_{\\|x\\|=1}\\|Ax\\|=\\sup_{\\|x\\|=1}\\max_i\\left(d_i\\left|\\sum_{j=1}^n a_{ij}x_j\\right|\\right)$$\n",
    "\n",
    "$\\{x:||x||=1\\}=\\{(x_j)_{j=1}^n:(\\forall k\\ |x_k|\\le 1/d_k)\\wedge(\\exists k_0\\ |x_{k_0}|=1/d_{k_0})\\}$, тогда для всех $i$\n",
    "$$\\left|\\sum_{j=1}^n a_{ij}x_j\\right|\\le\\sum_{j=1}^n |a_{ij}| |x_j|\\le\\sum_{j=1}^n\\frac{|a_{ij}|}{d_j}$$\n",
    "и равенство достигается при $x^{(0)}=\\left(\\frac{\\text{sgn}(a_{ij})}{d_j}\\right)_{j=1}^n, \\|x^{(0)}\\|=1$, поэтому\n",
    "\n",
    "$$\\|A\\|=\\max_i\\left(d_i\\sum_{j=1}^n\\frac{|a_{ij}|}{d_j}\\right)$$"
   ]
  },
  {
   "cell_type": "markdown",
   "metadata": {},
   "source": [
    "## Задача II.9.2a\n",
    "\n",
    "> Дана система линейных алгебраических уравнений $Ax = b$ $$A=\\begin{pmatrix}\n",
    "101 & 110 \\\\\n",
    "110 & 122 \n",
    "\\end{pmatrix};\n",
    "b=\\begin{pmatrix}\n",
    "312 \\\\\n",
    "342\n",
    "\\end{pmatrix};\n",
    "\\frac{\\|\\Delta b\\|_1}{\\|b\\|_1}\\le0.01;\\|x\\|_1=\\max\\limits_i |x_i|$$\n",
    "> Оценить максимально точно относительную погрешность $\\|\\Delta x\\|/\\|x\\|$ в заданной норме. Найти вектор ошибки $\\Delta b$, на котором эта оценка достигается. При каком $\\Delta b$  относительная ошибка $\\|\\Delta x\\|/\\|x\\|$ будет минимальной? Найти ее.\n",
    "\n",
    "Решением $Ax=b$ является $x=(2\\ 1)^T$, также\n",
    "$$A^{-1}=\\frac{1}{|101\\cdot122-110^2|}\\begin{pmatrix}\n",
    "122 & -110 \\\\\n",
    "-110 & 101\n",
    "\\end{pmatrix}=\\frac{1}{222}\\begin{pmatrix}\n",
    "122 & -110 \\\\\n",
    "-110 & 101\n",
    "\\end{pmatrix}\n",
    "$$\n",
    "$$A(x+\\Delta x)=b+\\Delta b\\Rightarrow\\Delta x=A^{-1}\\Delta b$$\n",
    "Тогда точная верхняя оценка погрешности\n",
    "$$\\frac{\\|\\Delta x\\|}{\\|x\\|}\\le\\frac{\\|A^{-1}\\|\\|\\Delta b\\|}{\\|x\\|}=\\|A^{-1}\\|\\frac{\\|b\\|}{\\|x\\|}\\frac{\\|\\Delta b\\|}{\\|b\\|}=\n",
    "\\frac{232}{222}\\cdot\\frac{342}{2}\\cdot0.01=\\frac{1653}{925}$$\n",
    "Она достигается при $\\|A^{-1}\\Delta b\\|=\\|A^{-1}\\|\\|\\Delta b\\|$, что выполняется при $\\Delta b=(-3.42\\ 3.42)^T$\n",
    "$$\\begin{cases}\n",
    "101x'_1+110x'_2=312-3.42 \\\\\n",
    "110x'_1+122x'_2=342+3.42\n",
    "\\end{cases}\\Leftrightarrow\n",
    "x'=\\begin{pmatrix}\n",
    "-\\frac{1456}{925} \\\\\n",
    "\\frac{15727}{3700}\n",
    "\\end{pmatrix}\n",
    "$$\n",
    "$$\\frac{\\|x'-x\\|}{\\|x\\|}=\\frac{1}{2}\\max\\left\\{\\frac{3306}{925},\\frac{12027}{3700}\\right\\}=\\frac{1653}{925}$$\n",
    "\n",
    "Минимальная ошибка равна\n",
    "$$\\frac{\\|\\Delta x\\|}{\\|x\\|}=\\min\\limits_{\\|\\Delta b\\|=3.42}\\frac{\\|A^{-1}\\Delta b\\|}{\\|x\\|}=\\frac{\\|\\Delta b\\|}{\\|A\\|\\|x\\|}=\\frac{171}{23200}$$\n",
    "так как $\\|A\\Delta x\\|=\\|\\Delta b\\|$, то\n",
    "$$\\begin{cases}\n",
    "|101\\Delta x_1+110\\Delta x_2|\\le211\\cdot2\\frac{171}{23200}<3.42 \\\\\n",
    "|110\\Delta x_1+122\\Delta x_2|\\le232\\cdot2\\frac{171}{23200}=3.42\n",
    "\\end{cases}$$\n",
    "равенство достигается при $\\Delta x_1=\\Delta x_2=\\frac{171}{11600}$, откуда искомое $\\Delta b=(\\frac{36081}{11600}\\ 3.42)^T$"
   ]
  },
  {
   "cell_type": "markdown",
   "metadata": {},
   "source": [
    "## Задача II.7.37в\n",
    "\n",
    "> Найти область сходимости метода Якоби и метода Зейделя для системы с матрицой вида:\n",
    "\\begin{pmatrix}\n",
    "\\alpha & \\beta & 0 \\\\\n",
    "\\beta & \\alpha & 0 \\\\\n",
    "0 & 0 & \\alpha \n",
    "\\end{pmatrix}\n",
    "\n",
    "Исключим случай вырожденности матрицы $\\alpha=0$ и воспользуемся соответствующими критериями сходимости\n",
    "1) Метода Якоби\n",
    "$$\\begin{vmatrix}\n",
    "\\lambda\\alpha & \\beta & 0 \\\\\n",
    "\\beta & \\lambda\\alpha & 0 \\\\\n",
    "0 & 0 & \\lambda\\alpha \n",
    "\\end{vmatrix}=\\lambda\\alpha(\\lambda^2\\alpha^2-\\beta^2)=0\\Leftrightarrow\\lambda_{1,2}=\\pm\\frac{\\beta}{\\alpha}, \\lambda_3=0$$\n",
    "$$|\\lambda_i|\\le 1, i=1,2,3\\Leftrightarrow |\\beta|\\le|\\alpha|$$\n",
    "2) Метода Зейделя\n",
    "$$\\begin{vmatrix}\n",
    "\\lambda\\alpha & \\beta & 0 \\\\\n",
    "\\lambda\\beta & \\lambda\\alpha & 0 \\\\\n",
    "0 & 0 & \\lambda\\alpha \n",
    "\\end{vmatrix}=\\lambda^2\\alpha(\\lambda\\alpha^2-\\beta^2)=0\\Leftrightarrow\\lambda_{1,2}=0, \\lambda_3=\\frac{\\beta^2}{\\alpha^2}$$\n",
    "$$|\\lambda_i|\\le 1, i=1,2,3\\Leftrightarrow |\\beta|\\le|\\alpha|$$\n",
    "\n",
    "Ответ: оба метода сходятся при $\\alpha\\neq 0, |\\alpha|\\ge|\\beta|$\n",
    "\n"
   ]
  },
  {
   "cell_type": "markdown",
   "metadata": {},
   "source": [
    "## Задача 2*б\n",
    "\n",
    "> Реализуйте метод Гаусса-Зейделя решения системы уравнений\n",
    "\\begin{cases}\n",
    "x_1 + x_2 + x_3 + \\cdots + x_{99} + x_{100} &= 100 \\\\\n",
    "x_1 + 10x_2 + x_3 &= 99 \\\\\n",
    "\\qquad \\ x_2 + 10x_3 + x_4 &= 98 \\\\\n",
    "\\qquad \\qquad \\quad \\quad \\ \\ddots \\\\\n",
    "\\qquad \\qquad \\quad \\ \\ x_{98} + 10x_{99} + x_{100} &= 2 \\\\\n",
    "\\qquad \\qquad \\qquad \\qquad \\quad x_{99} + x_{100} &= 1\n",
    "\\end{cases}\n",
    "При помощи степенного метода оцените число обусловенности матрицы системы. Используя оценку числа обусловенности, получить решение системы с относительной точностью $\\varepsilon=10^{−5}$\n",
    "\n",
    "Введем параметры СЛАУ: размерность $n$, матрица $A=(a_{ij})_{i,j=1}^n$, вектор значений $b=(b_1, \\ldots, b_n)^T$"
   ]
  },
  {
   "cell_type": "code",
   "execution_count": 1,
   "metadata": {},
   "outputs": [
    {
     "name": "stdout",
     "output_type": "stream",
     "text": [
      "[[ 1.  1.  1. ...  1.  1.  1.]\n",
      " [ 1. 10.  1. ...  0.  0.  0.]\n",
      " [ 0.  1. 10. ...  0.  0.  0.]\n",
      " ...\n",
      " [ 0.  0.  0. ... 10.  1.  0.]\n",
      " [ 0.  0.  0. ...  1. 10.  1.]\n",
      " [ 0.  0.  0. ...  0.  1.  1.]]\n",
      "[100  99  98  97  96  95  94  93  92  91  90  89  88  87  86  85  84  83\n",
      "  82  81  80  79  78  77  76  75  74  73  72  71  70  69  68  67  66  65\n",
      "  64  63  62  61  60  59  58  57  56  55  54  53  52  51  50  49  48  47\n",
      "  46  45  44  43  42  41  40  39  38  37  36  35  34  33  32  31  30  29\n",
      "  28  27  26  25  24  23  22  21  20  19  18  17  16  15  14  13  12  11\n",
      "  10   9   8   7   6   5   4   3   2   1]\n"
     ]
    }
   ],
   "source": [
    "import numpy as np\n",
    "\n",
    "n = 100\n",
    "a = np.diag(10 * np.ones(n)) + np.diag(np.ones(n - 1), 1) + np.diag(np.ones(n - 1), -1)\n",
    "a[0] = np.ones(n)\n",
    "a[n - 1][n - 1] = 1\n",
    "b = np.arange(100, 0, -1)\n",
    "eps = 1e-5\n",
    "\n",
    "print(a, b, sep='\\n')"
   ]
  },
  {
   "cell_type": "markdown",
   "metadata": {},
   "source": [
    "Найдем число обусловленности матрицы $A$ по евклидовой норме\n",
    "$$\\mu(A)=\\sqrt{\\frac{\\lambda_{\\max{|\\cdot|}}(A^T A)}{\\lambda_{\\min{|\\cdot|}}(A^T A)}}$$\n",
    "Для этого с помощью степенного метода найдем максимальное по модулю собственное значение\n",
    "$$\\lambda_1=\\lambda_{\\max{|\\cdot|}}(A^T A)$$\n",
    "Затем минимальное из соотношения\n",
    "$$\\lambda_{\\max{|\\cdot|}}(\\lambda_1 E - A^T A)=\\lambda_1-\\lambda_n$$"
   ]
  },
  {
   "cell_type": "code",
   "execution_count": 2,
   "metadata": {},
   "outputs": [
    {
     "name": "stdout",
     "output_type": "stream",
     "text": [
      "30.709329615580604\t30.768233436976338\n"
     ]
    }
   ],
   "source": [
    "def lambda_max_abs(a):\n",
    "    x = np.ones(n)\n",
    "    m = 0\n",
    "    while True:\n",
    "        x_ = a @ x\n",
    "        m_ = np.dot(x_, x) / np.dot(x, x)\n",
    "        if np.abs(m - m_) <= eps:\n",
    "            break\n",
    "        x = x_ / np.linalg.norm(x_)\n",
    "        m = m_\n",
    "    return m\n",
    "\n",
    "def lambda_min_abs(a):\n",
    "    lam_max_abs = lambda_max_abs(a)\n",
    "    return lam_max_abs - lambda_max_abs(lam_max_abs * np.eye(n) - a)\n",
    "\n",
    "def cond(a):\n",
    "    a = a.T @ a\n",
    "    return np.sqrt(lambda_max_abs(a) / lambda_min_abs(a))\n",
    "\n",
    "print(cond(a), np.linalg.cond(a), sep='\\t')"
   ]
  },
  {
   "cell_type": "markdown",
   "metadata": {},
   "source": [
    "Метод Гаусса-Зейделя дает следующее соотношение между итерациями $x$\n",
    "$$x_i^{(k+1)}=\\sum_{j=1}^{i-1}c_{ij}x_j^{(k+1)}+c_{ii}x_i^{(k)}+\\sum_{j=i+1}^{n}c_{ij}x_j^{(k)}+d_i\n",
    "\\text{, where }c_{ij}=\\begin{cases}\n",
    "0, & \\text{if }i=j \\\\\n",
    "-a_{ij} / a_{ii}, & \\text{if }i\\neq j\n",
    "\\end{cases}, d_i = \\frac{b_i}{a_{ii}}, i=1,2,\\ldots,n$$\n",
    "Программная реализация с условием остановки $$\\mu(A)\\frac{\\|r_k\\|}{\\|b\\|}\\le\\varepsilon$$"
   ]
  },
  {
   "cell_type": "code",
   "execution_count": 3,
   "metadata": {},
   "outputs": [
    {
     "name": "stdout",
     "output_type": "stream",
     "text": [
      "[-345.74502   44.01918    4.55325    8.44836    7.96312    7.92039\n",
      "    7.83296    7.75004    7.66666    7.58333    7.5        7.41667\n",
      "    7.33333    7.25       7.16667    7.08333    7.         6.91667\n",
      "    6.83333    6.75       6.66667    6.58333    6.5        6.41667\n",
      "    6.33333    6.25       6.16667    6.08333    6.         5.91667\n",
      "    5.83333    5.75       5.66667    5.58333    5.5        5.41667\n",
      "    5.33333    5.25       5.16667    5.08333    5.         4.91667\n",
      "    4.83333    4.75       4.66667    4.58333    4.5        4.41667\n",
      "    4.33333    4.25       4.16667    4.08333    4.         3.91667\n",
      "    3.83333    3.75       3.66667    3.58333    3.5        3.41667\n",
      "    3.33333    3.25       3.16667    3.08333    3.         2.91667\n",
      "    2.83333    2.75       2.66667    2.58333    2.5        2.41667\n",
      "    2.33333    2.25       2.16667    2.08333    2.         1.91667\n",
      "    1.83333    1.75       1.66667    1.58333    1.5        1.41667\n",
      "    1.33333    1.25       1.16667    1.08333    1.         0.91667\n",
      "    0.83333    0.75       0.66667    0.58333    0.49999    0.41675\n",
      "    0.33247    0.25851    0.08239    0.91761]\n"
     ]
    }
   ],
   "source": [
    "c = a / a.diagonal()[:, None]\n",
    "d = b / a.diagonal()\n",
    "np.fill_diagonal(c, 0)\n",
    "\n",
    "threshold = eps * np.linalg.norm(b) / cond(a)\n",
    "x = np.ones(n)\n",
    "\n",
    "while np.linalg.norm(a @ x - b) > threshold:\n",
    "    for i in range(n):\n",
    "        x[i] = d[i] - c[i] @ x\n",
    "\n",
    "with np.printoptions(precision=5, suppress=True):\n",
    "    print(x)"
   ]
  }
 ],
 "metadata": {
  "kernelspec": {
   "display_name": "Python 3",
   "language": "python",
   "name": "python3"
  },
  "language_info": {
   "codemirror_mode": {
    "name": "ipython",
    "version": 3
   },
   "file_extension": ".py",
   "mimetype": "text/x-python",
   "name": "python",
   "nbconvert_exporter": "python",
   "pygments_lexer": "ipython3",
   "version": "3.11.4"
  }
 },
 "nbformat": 4,
 "nbformat_minor": 2
}
