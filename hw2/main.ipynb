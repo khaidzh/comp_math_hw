{
 "cells": [
  {
   "cell_type": "markdown",
   "metadata": {},
   "source": [
    "# Домашнее задание Ⅱ"
   ]
  },
  {
   "cell_type": "markdown",
   "metadata": {},
   "source": [
    "## Задача 2*б\n",
    "Введем параметры СЛАУ: размерность $n$, матрица $A=\\{a_{ij}\\}_{i,j=1}^n$, вектор значений $b=(b_1, \\ldots, b_n)^T$, относительная точность $\\varepsilon$"
   ]
  },
  {
   "cell_type": "code",
   "execution_count": 1,
   "metadata": {},
   "outputs": [],
   "source": [
    "import numpy as np\n",
    "\n",
    "n = 100\n",
    "a = np.diag(10 * np.ones(n)) + np.diag(np.ones(n - 1), 1) + np.diag(np.ones(n - 1), -1)\n",
    "a[0] = np.ones(n)\n",
    "a[n - 1][n - 1] = 1\n",
    "b = np.arange(100, 0, -1)\n",
    "eps = 1e-5"
   ]
  },
  {
   "cell_type": "markdown",
   "metadata": {},
   "source": [
    "Вычислим с помощью степенного метода число обусловленности матрицы $A$"
   ]
  },
  {
   "cell_type": "code",
   "execution_count": 2,
   "metadata": {},
   "outputs": [
    {
     "name": "stdout",
     "output_type": "stream",
     "text": [
      "7.88492806093767\n"
     ]
    }
   ],
   "source": [
    "def lambda_max_abs(a):\n",
    "    x = np.ones(n)\n",
    "    m = 0\n",
    "    while True:\n",
    "        x_ = a @ x\n",
    "        m_ = np.dot(x_, x) / np.dot(x, x)\n",
    "        if np.abs(m - m_) <= eps * m:\n",
    "            break\n",
    "        x = x_ / np.linalg.norm(x_)\n",
    "        m = m_\n",
    "    return m\n",
    "\n",
    "def mu(a):\n",
    "    a = a.T @ a\n",
    "    return np.sqrt(lambda_max_abs(a) / lambda_max_abs(np.linalg.inv(a)))\n",
    "\n",
    "print(mu(a))"
   ]
  },
  {
   "cell_type": "markdown",
   "metadata": {},
   "source": [
    "Метод Гаусса-Зейделя дает следующее соотношение между итерациями $x$\n",
    "$$x_i^{(k+1)}=\\sum_{j=1}^{i-1}c_{ij}x_j^{(k+1)}+c_{ii}x_i^{(k)}+\\sum_{j=i+1}^{n}c_{ij}x_j^{(k)}+d_i\n",
    "\\text{, where }c_{ij}=\\begin{cases}\n",
    "0, & \\text{if }i=j \\\\\n",
    "-a_{ij} / a_{ii}, & \\text{if }i\\neq j\n",
    "\\end{cases}, d_i = \\frac{b_i}{a_{ii}}, i=1,2,\\ldots,n$$\n",
    "Программная реализация с условием остановки при достижении относительной точности $\\varepsilon$"
   ]
  },
  {
   "cell_type": "code",
   "execution_count": 3,
   "metadata": {},
   "outputs": [
    {
     "name": "stdout",
     "output_type": "stream",
     "text": [
      "[-345.74401   44.01904    4.55326    8.44836    7.96312    7.92039\n",
      "    7.83295    7.75003    7.66666    7.58333    7.5        7.41666\n",
      "    7.33333    7.25       7.16666    7.08333    7.         6.91666\n",
      "    6.83333    6.75       6.66666    6.58333    6.5        6.41666\n",
      "    6.33333    6.25       6.16666    6.08333    6.         5.91666\n",
      "    5.83333    5.75       5.66666    5.58333    5.5        5.41666\n",
      "    5.33333    5.25       5.16666    5.08333    5.         4.91666\n",
      "    4.83333    4.75       4.66666    4.58333    4.5        4.41667\n",
      "    4.33333    4.25       4.16667    4.08333    4.         3.91667\n",
      "    3.83333    3.75       3.66667    3.58333    3.5        3.41667\n",
      "    3.33333    3.25       3.16667    3.08333    3.         2.91667\n",
      "    2.83333    2.75       2.66667    2.58333    2.5        2.41667\n",
      "    2.33333    2.25       2.16667    2.08333    2.         1.91667\n",
      "    1.83333    1.75       1.66667    1.58333    1.5        1.41667\n",
      "    1.33333    1.25       1.16667    1.08333    1.         0.91667\n",
      "    0.83333    0.75       0.66667    0.58333    0.49999    0.41675\n",
      "    0.33247    0.25851    0.08239    0.91761]\n"
     ]
    }
   ],
   "source": [
    "c = a / a.diagonal()[:, None]\n",
    "d = b / a.diagonal()\n",
    "np.fill_diagonal(c, 0)\n",
    "\n",
    "x = np.ones(n)\n",
    "while np.linalg.norm(a @ x - b) / np.linalg.norm(x) > eps:\n",
    "    for i in range(n):\n",
    "        x[i] = d[i] - c[i] @ x\n",
    "with np.printoptions(precision=5, suppress=True):\n",
    "    print(x)"
   ]
  }
 ],
 "metadata": {
  "kernelspec": {
   "display_name": "Python 3",
   "language": "python",
   "name": "python3"
  },
  "language_info": {
   "codemirror_mode": {
    "name": "ipython",
    "version": 3
   },
   "file_extension": ".py",
   "mimetype": "text/x-python",
   "name": "python",
   "nbconvert_exporter": "python",
   "pygments_lexer": "ipython3",
   "version": "3.11.4"
  }
 },
 "nbformat": 4,
 "nbformat_minor": 2
}
